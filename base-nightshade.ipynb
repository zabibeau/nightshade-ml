{
 "cells": [
  {
   "cell_type": "markdown",
   "id": "a8740f10",
   "metadata": {},
   "source": [
    "# Nightshade penalty method validation and Analysis"
   ]
  },
  {
   "cell_type": "markdown",
   "id": "4f48783b",
   "metadata": {},
   "source": [
    "## Imports"
   ]
  },
  {
   "cell_type": "code",
   "execution_count": null,
   "id": "9581ac28",
   "metadata": {},
   "outputs": [],
   "source": [
    "# Package imports\n",
    "import torch\n",
    "import numpy as np\n",
    "from PIL import Image\n",
    "import matplotlib.pyplot as plt\n",
    "from IPython.display import display\n",
    "import json\n",
    "import glob\n",
    "import os\n",
    "from tqdm.notebook import tqdm\n",
    "\n",
    "\n",
    "# Our custom implementations\n",
    "from nightshade import Nightshade\n",
    "from perturbation_methods import fgsm_penalty, pgd_penalty, nightshade_penalty\n",
    "from data_process import get_dataset, get_poisoning_candidates\n",
    "\n",
    "%load_ext autoreload\n",
    "%autoreload 2\n",
    "%matplotlib inline\n",
    "\n",
    "TRAIN_DATA_DIR = 'train2014'\n",
    "ANNOTATION_FILENAME = 'annotations/captions_train2014.json'"
   ]
  },
  {
   "cell_type": "markdown",
   "id": "3723ec02",
   "metadata": {},
   "source": [
    "## Configuration"
   ]
  },
  {
   "cell_type": "code",
   "execution_count": null,
   "id": "31edd13f",
   "metadata": {},
   "outputs": [],
   "source": [
    "device = torch.device(\"cuda\" if torch.cuda.is_available() else \"cpu\")\n",
    "target_concept = 'cat'\n",
    "epsilon = 0.05\n",
    "test_image_path = 'test_images/dog.jpg'\n"
   ]
  },
  {
   "cell_type": "markdown",
   "id": "75a227ff",
   "metadata": {},
   "source": [
    "## Load Dataset"
   ]
  },
  {
   "cell_type": "code",
   "execution_count": null,
   "id": "b102dc25",
   "metadata": {},
   "outputs": [],
   "source": [
    "def load_annotations(annotations_path):\n",
    "    annotation_file = json.load(open(annotations_path, 'r'))\n",
    "    print(f\"Loaded {len(annotation_file)} annotations from {annotations_path}\")\n",
    "    print(f\"Example annotation: {annotation_file['annotations'][0]}\")\n",
    "    return annotation_file\n",
    "\n",
    "file = load_annotations('annotations/captions_train2014.json')\n",
    "print(f\"Number of annotations: {len(file['annotations'])}\")\n",
    "print(f\"Number of images: {len(file['images'])}\")"
   ]
  },
  {
   "cell_type": "markdown",
   "id": "7d9e2a9a",
   "metadata": {},
   "source": [
    "## Get poisoning candidates"
   ]
  },
  {
   "cell_type": "code",
   "execution_count": null,
   "id": "6f9d0eb3",
   "metadata": {},
   "outputs": [],
   "source": [
    "OUTPUT_DIR = 'poisoning_candidates'\n",
    "ANNOTATION_FILENAME = 'annotations/captions_train2014.json'\n",
    "TRAIN_DATA_DIR = 'train2014'\n",
    "df = get_dataset(ANNOTATION_FILENAME, TRAIN_DATA_DIR, limit=1000, unique_images=True)\n",
    "\n",
    "get_poisoning_candidates(\n",
    "    df = df,\n",
    "    concept=\"dog\",\n",
    "    num_candidates=5,\n",
    "    output_dir=OUTPUT_DIR,\n",
    ")"
   ]
  },
  {
   "cell_type": "markdown",
   "id": "22bd4e23",
   "metadata": {},
   "source": [
    "### Poisoining Candidate Validation"
   ]
  },
  {
   "cell_type": "code",
   "execution_count": null,
   "id": "0b8784f5",
   "metadata": {},
   "outputs": [],
   "source": [
    "import pickle\n",
    "import matplotlib.pyplot as plt\n",
    "\n",
    "# Load a poisoned candidate file\n",
    "with open(\"poisoning_candidates/dog_0.p\", \"rb\") as f:\n",
    "    data = pickle.load(f)\n",
    "\n",
    "# Display the image and caption\n",
    "plt.imshow(data[\"img\"])\n",
    "plt.title(f\"Caption: {data['text']}\")\n",
    "plt.axis(\"off\")\n",
    "plt.show()"
   ]
  },
  {
   "cell_type": "markdown",
   "id": "b347d922",
   "metadata": {},
   "source": [
    "## Nightshade Poisoning"
   ]
  },
  {
   "cell_type": "code",
   "execution_count": null,
   "id": "604301f4",
   "metadata": {},
   "outputs": [],
   "source": [
    "candidate_files = glob.glob(\"poisoning_candidates/dog_*.p\")\n",
    "candidates = [pickle.load(open(f, 'rb')) for f in candidate_files]\n",
    "\n",
    "img = Image.fromarray(candidates[0]['img'])\n",
    "display(img.resize((256, 256)))\n",
    "print(f\"Caption: {candidates[0]['text']}\")"
   ]
  },
  {
   "cell_type": "code",
   "execution_count": null,
   "id": "256102d3",
   "metadata": {},
   "outputs": [],
   "source": [
    "device = torch.device(\"cuda\" if torch.cuda.is_available() else \"cpu\")\n",
    "target_concept = 'cat'\n",
    "nightshade = Nightshade(\n",
    "    target_concept=target_concept,\n",
    "    device=device,\n",
    "    eps = 0.1,\n",
    "    penalty_method=nightshade_penalty,\n",
    ")"
   ]
  },
  {
   "cell_type": "code",
   "execution_count": null,
   "id": "32cdfc49",
   "metadata": {},
   "outputs": [],
   "source": [
    "output_dir = 'poisoned_images'\n",
    "os.makedirs(output_dir, exist_ok=True)\n",
    "\n",
    "for i, candidate in tqdm(enumerate(candidates), desc=\"Poisoning Images:\", total=len(candidates)):\n",
    "    img = Image.fromarray(candidate['img'])\n",
    "\n",
    "    poisoned_img = nightshade.generate(img, target_concept)\n",
    "\n",
    "    poisoned_data = {\n",
    "        \"img\": np.array(poisoned_img),\n",
    "        \"text\": candidate['text'],\n",
    "    }\n",
    "\n",
    "    pickle.dump(poisoned_data, open(f\"{output_dir}/poisoned_dog_{i}.p\", \"wb\"))\n",
    "\n",
    "print(f\"Saved {len(candidates)} poisoned images to {output_dir}\")\n",
    "\n",
    "    "
   ]
  },
  {
   "cell_type": "code",
   "execution_count": null,
   "id": "05035d7c",
   "metadata": {},
   "outputs": [],
   "source": [
    "# display poisoned images\n",
    "poisoned_files = glob.glob(f\"{output_dir}/poisoned_dog_*.p\")\n",
    "poisoned_candidates = [pickle.load(open(f, 'rb')) for f in poisoned_files]\n",
    "for i, poisoned_candidate in enumerate(poisoned_candidates[:20]):\n",
    "    img = Image.fromarray(poisoned_candidate['img'])\n",
    "    display(img)\n",
    "    print(f\"Caption: {poisoned_candidate['text']}\")\n"
   ]
  }
 ],
 "metadata": {
  "kernelspec": {
   "display_name": "nightshade_env",
   "language": "python",
   "name": "python3"
  },
  "language_info": {
   "codemirror_mode": {
    "name": "ipython",
    "version": 3
   },
   "file_extension": ".py",
   "mimetype": "text/x-python",
   "name": "python",
   "nbconvert_exporter": "python",
   "pygments_lexer": "ipython3",
   "version": "3.10.12"
  }
 },
 "nbformat": 4,
 "nbformat_minor": 5
}
