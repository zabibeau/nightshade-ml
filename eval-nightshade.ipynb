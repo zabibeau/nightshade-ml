{
 "cells": [
  {
   "cell_type": "markdown",
   "id": "b865e122",
   "metadata": {},
   "source": [
    "# Evaluating Nightshade"
   ]
  },
  {
   "cell_type": "markdown",
   "id": "8408ffe7",
   "metadata": {},
   "source": [
    "## Imports"
   ]
  },
  {
   "cell_type": "code",
   "execution_count": 1,
   "id": "ba009ff5",
   "metadata": {},
   "outputs": [],
   "source": [
    "import torch\n",
    "from eval_nightshade import NightshadeEvaluator\n",
    "from nightshade import Nightshade\n",
    "from perturbation_methods import fgsm_penalty, pgd_penalty, nightshade_penalty\n",
    "from data_process import get_dataset, get_poisoning_candidates, get_poisoned_dataset, create_mixed_dataset\n",
    "from PIL import Image\n",
    "import gc\n",
    "import glob\n",
    "import pickle\n",
    "import numpy as np\n",
    "import os\n",
    "\n",
    "%load_ext autoreload\n",
    "%autoreload 2\n",
    "%matplotlib inline"
   ]
  },
  {
   "cell_type": "markdown",
   "id": "03ce3322",
   "metadata": {},
   "source": [
    "## Part 1"
   ]
  },
  {
   "cell_type": "code",
   "execution_count": null,
   "id": "95c38dce",
   "metadata": {},
   "outputs": [],
   "source": [
    "device = torch.device('cuda' if torch.cuda.is_available() else 'cpu')\n",
    "evaluator = NightshadeEvaluator(device=device)\n",
    "\n",
    "methods = {\n",
    "    'fgsm': fgsm_penalty,\n",
    "    'pgd': pgd_penalty,\n",
    "    'original': nightshade_penalty\n",
    "}\n",
    "\n",
    "results = {}\n",
    "poisoned_imgs = {}\n",
    "for name, method in methods.items():\n",
    "    nightshade = Nightshade(target_concept=None, device=device, penalty_method=method)\n",
    "    original_img = Image.open('test_images/dog.jpg')\n",
    "    poisoned_img = nightshade.generate(original_img, target_concept='cat')\n",
    "    poisoned_imgs[name] = poisoned_img\n",
    "\n",
    "    results[name] = {\n",
    "        'visual_metrics': evaluator.evaluate_perturbation(original_img, poisoned_img),\n",
    "        'embedding_metrics': evaluator.evaluate_embedding_shift(original_img, poisoned_img, 'cat')\n",
    "    }\n",
    "\n",
    "    del nightshade\n",
    "    gc.collect()\n",
    "    torch.cuda.empty_cache()\n",
    "\n"
   ]
  },
  {
   "cell_type": "code",
   "execution_count": null,
   "id": "fbc7dbe9",
   "metadata": {},
   "outputs": [],
   "source": [
    "for name, result in results.items():\n",
    "    print(f\"Results for {name}:\")\n",
    "    print(f\"Visual Metrics: {result['visual_metrics']}\")\n",
    "    print(f\"Embedding Metrics: {result['embedding_metrics']}\")\n",
    "    print()\n",
    "    # Display the poisoned image\n",
    "    display(poisoned_imgs[name])"
   ]
  },
  {
   "cell_type": "markdown",
   "id": "90c61b90",
   "metadata": {},
   "source": [
    "## Part 2"
   ]
  },
  {
   "cell_type": "code",
   "execution_count": null,
   "id": "68ec13fc",
   "metadata": {},
   "outputs": [],
   "source": [
    "# get a list of poisoning candidates\n",
    "clean_dataset = get_dataset('annotations/captions_train2014.json', 'train2014', 5000)\n",
    "poisoning_candidates = get_poisoning_candidates(clean_dataset, 'dog', 100)"
   ]
  },
  {
   "cell_type": "code",
   "execution_count": null,
   "id": "001eb89e",
   "metadata": {},
   "outputs": [],
   "source": [
    "candidate_files = glob.glob(\"poisoning_candidates/dog_*.p\")\n",
    "candidates = [pickle.load(open(f, 'rb')) for f in candidate_files]\n",
    "\n",
    "for name, method in methods.items():\n",
    "    output_dir = f'poisoned_images/{name}'\n",
    "    nightshade = Nightshade(target_concept=None, device=device, penalty_method=method)\n",
    "    if not os.path.exists(output_dir):\n",
    "        os.makedirs(output_dir)\n",
    "    for candidate in candidates:\n",
    "        \n",
    "        original_img = Image.fromarray(candidate['img'])\n",
    "        poisoned_img = nightshade.generate(original_img, target_concept='cat')\n",
    "        poisoned_data = {\n",
    "            'img': np.array(poisoned_img),\n",
    "            'text': candidate['text']\n",
    "        }\n",
    "        pickle.dump(poisoned_data, open(f\"{output_dir}/{name}_{candidate['image_id']}.p\", 'wb'))\n",
    "    print(f'Saved {len(candidates)} poisoned images for {name} method in {output_dir}')\n",
    "    del nightshade\n",
    "    gc.collect()\n",
    "    torch.cuda.empty_cache()\n"
   ]
  },
  {
   "cell_type": "markdown",
   "id": "3d7ba861",
   "metadata": {},
   "source": [
    "### Train Stable Diffusion on each sample"
   ]
  },
  {
   "cell_type": "code",
   "execution_count": 7,
   "id": "98159f12",
   "metadata": {},
   "outputs": [
    {
     "data": {
      "application/vnd.jupyter.widget-view+json": {
       "model_id": "55175496ebbc4ec2a94861995a0293e4",
       "version_major": 2,
       "version_minor": 0
      },
      "text/plain": [
       "Processing unique images:   0%|          | 0/82783 [00:00<?, ?it/s]"
      ]
     },
     "metadata": {},
     "output_type": "display_data"
    },
    {
     "name": "stdout",
     "output_type": "stream",
     "text": [
      "Loaded 10000 unique image entries\n",
      "Loaded 10 poisoned entries from poisoned_images/fgsm\n",
      "Loaded 25 poisoned entries from poisoned_images/fgsm\n",
      "Loaded 50 poisoned entries from poisoned_images/fgsm\n",
      "Loaded 100 poisoned entries from poisoned_images/fgsm\n",
      "Loaded 10 poisoned entries from poisoned_images/pgd\n",
      "Loaded 25 poisoned entries from poisoned_images/pgd\n",
      "Loaded 50 poisoned entries from poisoned_images/pgd\n",
      "Loaded 100 poisoned entries from poisoned_images/pgd\n",
      "Loaded 10 poisoned entries from poisoned_images/original\n",
      "Loaded 25 poisoned entries from poisoned_images/original\n",
      "Loaded 50 poisoned entries from poisoned_images/original\n",
      "Loaded 100 poisoned entries from poisoned_images/original\n"
     ]
    },
    {
     "data": {
      "application/vnd.jupyter.widget-view+json": {
       "model_id": "25ef66a97a6e4a42933e78bdfa76a9e4",
       "version_major": 2,
       "version_minor": 0
      },
      "text/plain": [
       "Mixing datasets:   0%|          | 0/50 [00:00<?, ?it/s]"
      ]
     },
     "metadata": {},
     "output_type": "display_data"
    },
    {
     "name": "stdout",
     "output_type": "stream",
     "text": [
      "Created mixed dataset with 50/10000 poisoned entries.\t 0.50% poisoned.\n"
     ]
    }
   ],
   "source": [
    "num_poisoned = [10, 25, 50, 100]\n",
    "methods = {\n",
    "    'fgsm': fgsm_penalty,\n",
    "    'pgd': pgd_penalty,\n",
    "    'original': nightshade_penalty\n",
    "}\n",
    "\n",
    "clean_df = get_dataset('annotations/captions_train2014.json', 'train2014', 10000)\n",
    "poisoned_datasets = {}\n",
    "for name, method in methods.items():\n",
    "    for num in num_poisoned:\n",
    "        poisoned_dataset = get_poisoned_dataset(f'poisoned_images/{name}', limit=num)\n",
    "        poisoned_datasets[f\"{name}_{num}\"] = poisoned_dataset\n",
    "\n",
    "\n",
    "mixed_dataset = create_mixed_dataset(clean_df, poisoned_datasets['original_50'])"
   ]
  },
  {
   "cell_type": "code",
   "execution_count": null,
   "id": "3361349d",
   "metadata": {},
   "outputs": [
    {
     "data": {
      "application/vnd.jupyter.widget-view+json": {
       "model_id": "92988798b78a4a379027c021b0b6af32",
       "version_major": 2,
       "version_minor": 0
      },
      "text/plain": [
       "Epoch 1/2:   0%|          | 0/10000 [00:00<?, ?it/s]"
      ]
     },
     "metadata": {},
     "output_type": "display_data"
    },
    {
     "data": {
      "application/vnd.jupyter.widget-view+json": {
       "model_id": "191cd5b701dc433382cb9b773f9e0472",
       "version_major": 2,
       "version_minor": 0
      },
      "text/plain": [
       "Epoch 2/2:   0%|          | 0/10000 [00:00<?, ?it/s]"
      ]
     },
     "metadata": {},
     "output_type": "display_data"
    },
    {
     "name": "stdout",
     "output_type": "stream",
     "text": [
      "Training complete. Model saved to output_models/\n"
     ]
    }
   ],
   "source": [
    "from train_sd import train_model\n",
    "\n",
    "train_model(mixed_dataset, 'output_models/', 10, 1)"
   ]
  },
  {
   "cell_type": "code",
   "execution_count": 6,
   "id": "b1ba6e56",
   "metadata": {},
   "outputs": [
    {
     "data": {
      "application/vnd.jupyter.widget-view+json": {
       "model_id": "223299f955f141ce9dc237f82738786c",
       "version_major": 2,
       "version_minor": 0
      },
      "text/plain": [
       "Loading pipeline components...:   0%|          | 0/6 [00:00<?, ?it/s]"
      ]
     },
     "metadata": {},
     "output_type": "display_data"
    },
    {
     "name": "stderr",
     "output_type": "stream",
     "text": [
      "You have disabled the safety checker for <class 'diffusers.pipelines.stable_diffusion.pipeline_stable_diffusion.StableDiffusionPipeline'> by passing `safety_checker=None`. Ensure that you abide to the conditions of the Stable Diffusion license and do not expose unfiltered results in services or applications open to the public. Both the diffusers team and Hugging Face strongly recommend to keep the safety filter enabled in all public facing circumstances, disabling it only for use-cases that involve analyzing network behavior or auditing its results. For more information, please have a look at https://github.com/huggingface/diffusers/pull/254 .\n"
     ]
    },
    {
     "data": {
      "application/vnd.jupyter.widget-view+json": {
       "model_id": "bfa6438d8c694959aeae0d6d462a7ac6",
       "version_major": 2,
       "version_minor": 0
      },
      "text/plain": [
       "  0%|          | 0/50 [00:00<?, ?it/s]"
      ]
     },
     "metadata": {},
     "output_type": "display_data"
    }
   ],
   "source": [
    "from diffusers import StableDiffusionPipeline\n",
    "from train_sd import load_lora_into_pipeline\n",
    "\n",
    "pipe = StableDiffusionPipeline.from_pretrained(\n",
    "    'runwayml/stable-diffusion-v1-5', \n",
    "    torch_dtype=torch.float16, \n",
    "    safety_checker=None\n",
    ").to('cuda')\n",
    "\n",
    "pipe = load_lora_into_pipeline(pipe, 'output_models/lora_adapter')\n",
    "\n",
    "prompt = 'dog'\n",
    "image = pipe(prompt).images[0]\n",
    "image.save(\"sample.png\")\n"
   ]
  }
 ],
 "metadata": {
  "kernelspec": {
   "display_name": "nightshade_env",
   "language": "python",
   "name": "python3"
  },
  "language_info": {
   "codemirror_mode": {
    "name": "ipython",
    "version": 3
   },
   "file_extension": ".py",
   "mimetype": "text/x-python",
   "name": "python",
   "nbconvert_exporter": "python",
   "pygments_lexer": "ipython3",
   "version": "3.11.10"
  }
 },
 "nbformat": 4,
 "nbformat_minor": 5
}
