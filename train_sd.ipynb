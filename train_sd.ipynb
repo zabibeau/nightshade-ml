{
 "cells": [
  {
   "cell_type": "markdown",
   "id": "b865e122",
   "metadata": {},
   "source": [
    "# Training SD on poisoned samples"
   ]
  },
  {
   "cell_type": "markdown",
   "id": "8408ffe7",
   "metadata": {},
   "source": [
    "## Imports"
   ]
  },
  {
   "cell_type": "code",
   "execution_count": null,
   "id": "cd1fd192",
   "metadata": {},
   "outputs": [],
   "source": [
    "from py_files.perturbation_methods import fgsm_penalty, pgd_penalty, nightshade_penalty\n",
    "from py_files.data_process import get_dataset, get_poisoned_dataset, create_mixed_dataset\n",
    "from py_files.train_sd import train_model\n"
   ]
  },
  {
   "cell_type": "markdown",
   "id": "90c61b90",
   "metadata": {},
   "source": [
    "## Train SD on Poisoned Samples"
   ]
  },
  {
   "cell_type": "markdown",
   "id": "3d7ba861",
   "metadata": {},
   "source": [
    "### Train Stable Diffusion on each sample"
   ]
  },
  {
   "cell_type": "code",
   "execution_count": null,
   "id": "98159f12",
   "metadata": {},
   "outputs": [],
   "source": [
    "num_poisoned = [300]\n",
    "methods = {\n",
    "    'fgsm': fgsm_penalty,\n",
    "    'pgd': pgd_penalty,\n",
    "    'original': nightshade_penalty\n",
    "}\n",
    "\n",
    "poisoned_datasets = {}\n",
    "clean_dataset = get_dataset('annotations/captions_train2014.json', 'train2014', 10000)\n",
    "for name, method in methods.items():\n",
    "    for num in num_poisoned:\n",
    "        poisoned_dataset = get_poisoned_dataset(f'poisoned_images/{name}/pickle', limit=num)\n",
    "        poisoned_datasets[f\"{name}_{num}\"] = poisoned_dataset\n",
    "\n",
    "# mixed_datasets = {}\n",
    "# for name, poisoned_dataset in poisoned_datasets.items():\n",
    "#     mixed_datasets[name] = create_mixed_dataset(clean_dataset, poisoned_dataset)"
   ]
  },
  {
   "cell_type": "code",
   "execution_count": null,
   "id": "3361349d",
   "metadata": {},
   "outputs": [],
   "source": [
    "for i, (name, poisoned_dataset) in enumerate(poisoned_datasets.items()):\n",
    "    poisoned_dataset = poisoned_datasets[f'{name}']\n",
    "    mixed_dataset = create_mixed_dataset(clean_dataset, poisoned_dataset)\n",
    "    train_model(mixed_dataset, f'output_models/{name}', epochs=10, batch_size=2)"
   ]
  }
 ],
 "metadata": {
  "kernelspec": {
   "display_name": "nightshade_env",
   "language": "python",
   "name": "python3"
  },
  "language_info": {
   "codemirror_mode": {
    "name": "ipython",
    "version": 3
   },
   "file_extension": ".py",
   "mimetype": "text/x-python",
   "name": "python",
   "nbconvert_exporter": "python",
   "pygments_lexer": "ipython3",
   "version": "3.11.10"
  }
 },
 "nbformat": 4,
 "nbformat_minor": 5
}
